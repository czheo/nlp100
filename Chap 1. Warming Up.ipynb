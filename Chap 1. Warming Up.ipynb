{
 "metadata": {
  "name": "",
  "signature": "sha256:8e57fde0f3b689037b720bee4204d09e4f69d6a007b32c09bcf3ef936f581e70"
 },
 "nbformat": 3,
 "nbformat_minor": 0,
 "worksheets": [
  {
   "cells": [
    {
     "cell_type": "markdown",
     "metadata": {},
     "source": [
      "### ex00. Reverse a string\n",
      "Get \"stressed\" reversed"
     ]
    },
    {
     "cell_type": "code",
     "collapsed": false,
     "input": [
      "\"\".join(reversed(\"stressed\"))"
     ],
     "language": "python",
     "metadata": {},
     "outputs": [
      {
       "metadata": {},
       "output_type": "pyout",
       "prompt_number": 5,
       "text": [
        "'desserts'"
       ]
      }
     ],
     "prompt_number": 5
    },
    {
     "cell_type": "code",
     "collapsed": false,
     "input": [
      "\"stressed\"[::-1]"
     ],
     "language": "python",
     "metadata": {},
     "outputs": [
      {
       "metadata": {},
       "output_type": "pyout",
       "prompt_number": 7,
       "text": [
        "'desserts'"
       ]
      }
     ],
     "prompt_number": 7
    },
    {
     "cell_type": "markdown",
     "metadata": {},
     "source": [
      "### ex01. \"mississippi\"\n",
      "Get each character at the position of 1,3,5,7 and concatenate them into a new string"
     ]
    },
    {
     "cell_type": "code",
     "collapsed": false,
     "input": [
      "\"mississippi\"[1:8:2]"
     ],
     "language": "python",
     "metadata": {},
     "outputs": [
      {
       "metadata": {},
       "output_type": "pyout",
       "prompt_number": 8,
       "text": [
        "'issi'"
       ]
      }
     ],
     "prompt_number": 8
    },
    {
     "cell_type": "markdown",
     "metadata": {},
     "source": [
      "### ex02. Concatenate two strings alternately\n",
      "Concatenate \"abcd\" and \"efgh\" alternately to get a new string of \"aebfcgdh\""
     ]
    },
    {
     "cell_type": "code",
     "collapsed": false,
     "input": [
      "s = \"\"\n",
      "for i, j in zip(\"abcd\", \"efgh\"):\n",
      "    s += i + j\n",
      "print s"
     ],
     "language": "python",
     "metadata": {},
     "outputs": [
      {
       "output_type": "stream",
       "stream": "stdout",
       "text": [
        "aebfcgdh\n"
       ]
      }
     ],
     "prompt_number": 13
    },
    {
     "cell_type": "code",
     "collapsed": false,
     "input": [
      "\"\".join(reduce(lambda x, y: x + y, zip(\"abcd\", \"efgh\")))"
     ],
     "language": "python",
     "metadata": {},
     "outputs": [
      {
       "metadata": {},
       "output_type": "pyout",
       "prompt_number": 33,
       "text": [
        "'aebfcgdh'"
       ]
      }
     ],
     "prompt_number": 33
    },
    {
     "cell_type": "code",
     "collapsed": false,
     "input": [
      "\"\".join(sum(zip(\"abcd\", \"efgh\"), ()))"
     ],
     "language": "python",
     "metadata": {},
     "outputs": [
      {
       "metadata": {},
       "output_type": "pyout",
       "prompt_number": 28,
       "text": [
        "'aebfcgdh'"
       ]
      }
     ],
     "prompt_number": 28
    },
    {
     "cell_type": "markdown",
     "metadata": {},
     "source": [
      "### ex03. Pi\n",
      "Divide the sentence below into words. Put the length of each word into a list in order.\n",
      "\n",
      "> Now I need a drink, alcoholic of course, after the heavy lectures involving quantum mechanics."
     ]
    },
    {
     "cell_type": "code",
     "collapsed": false,
     "input": [
      "sent = \"Now I need a drink, alcoholic of course, after the heavy lectures involving quantum mechanics.\"\n",
      "import re\n",
      "[len(x) for x in re.split(r\"\\W+\", sent) if x != \"\"]"
     ],
     "language": "python",
     "metadata": {},
     "outputs": [
      {
       "metadata": {},
       "output_type": "pyout",
       "prompt_number": 6,
       "text": [
        "[3, 1, 4, 1, 5, 9, 2, 6, 5, 3, 5, 8, 9, 7, 9]"
       ]
      }
     ],
     "prompt_number": 6
    },
    {
     "cell_type": "markdown",
     "metadata": {},
     "source": [
      "### ex04. Symbol of Element\n",
      "Divide the sentence below into words. Get the first characater of the words at the position of 1, 5, 6, 7, 8, 9, 15, 16, 19, and the first two characaters of those at other positions. Put them into a dictionary as the keys, with the value to be the positions of the words in the sentence.\n",
      "\n",
      "> Hi He Lied Because Boron Could Not Oxidize Fluorine. New Nations Might Also Sign Peace Security Clause. Arthur King Can."
     ]
    },
    {
     "cell_type": "code",
     "collapsed": false,
     "input": [
      "sent = \"Hi He Lied Because Boron Could Not Oxidize Fluorine. New Nations Might Also Sign Peace Security Clause. Arthur King Can.\"\n",
      "words = sent.replace(\".\",\"\").split()\n",
      "result = {}\n",
      "for i, w in enumerate(words):\n",
      "    if i in {1, 5, 6, 7, 8, 9, 15, 16, 19}:\n",
      "        result[w[0]] = i\n",
      "    else:\n",
      "        result[w[:2]] = i\n",
      "print result"
     ],
     "language": "python",
     "metadata": {},
     "outputs": [
      {
       "output_type": "stream",
       "stream": "stdout",
       "text": [
        "{'Be': 3, 'C': 19, 'F': 8, 'S': 15, 'H': 1, 'Ki': 18, 'Bo': 4, 'Mi': 11, 'Al': 12, 'O': 7, 'Li': 2, 'Si': 13, 'Hi': 0, 'Na': 10, 'N': 9, 'Pe': 14, 'Ar': 17}\n"
       ]
      }
     ],
     "prompt_number": 8
    },
    {
     "cell_type": "markdown",
     "metadata": {},
     "source": [
      "### ex05. n-gram\n",
      "Create a function to generate n-gram from a sequence(string or list). Use this function to generate n-gram by word and character from the sentence below.\n",
      "> I am an NLPer"
     ]
    },
    {
     "cell_type": "code",
     "collapsed": false,
     "input": [
      "def ngram(seq, n, sep=None):\n",
      "    if isinstance(seq, str):\n",
      "        if sep:\n",
      "            seq = seq.split(sep)\n",
      "        else:\n",
      "            seq = list(seq)\n",
      "    \n",
      "    if isinstance(seq, list):\n",
      "        res = []\n",
      "        for i in xrange(len(seq) - n + 1):\n",
      "            res.append(seq[i:i+n])\n",
      "        return res\n",
      "    else:\n",
      "        raise TypeError(\"seq must be a string or list\")\n",
      "    \n",
      "\n",
      "sent = \"I am an NLPer\"\n",
      "print ngram(sent, 2)\n",
      "print ngram(sent, 2, \" \")"
     ],
     "language": "python",
     "metadata": {},
     "outputs": [
      {
       "output_type": "stream",
       "stream": "stdout",
       "text": [
        "[['I', ' '], [' ', 'a'], ['a', 'm'], ['m', ' '], [' ', 'a'], ['a', 'n'], ['n', ' '], [' ', 'N'], ['N', 'L'], ['L', 'P'], ['P', 'e'], ['e', 'r']]\n",
        "[['I', 'am'], ['am', 'an'], ['an', 'NLPer']]\n"
       ]
      }
     ],
     "prompt_number": 20
    },
    {
     "cell_type": "markdown",
     "metadata": {},
     "source": [
      "### ex06. Set\n",
      "Divide the characters in \"paraparaparadise\" and \"paragraph\" into bi-gram sets X, Y respectively. Find the union, intersection and difference between them. Find if \"se\" contains in X or Y."
     ]
    },
    {
     "cell_type": "code",
     "collapsed": false,
     "input": [
      "w1 = \"paraparaparadise\"\n",
      "w2 = \"paragraph\"\n",
      "\n",
      "def bigram_set(word):\n",
      "    s = set()\n",
      "    for i in xrange(len(word) - 1):\n",
      "        s.add(word[i:i+2])\n",
      "    return s\n",
      "\n",
      "X = bigram_set(w1)\n",
      "Y = bigram_set(w2)\n",
      "print \"X =\", X\n",
      "print \"Y =\", Y\n",
      "print \"union =\", X.union(Y) # X | Y\n",
      "print \"intersection =\", X.intersection(Y) # X & Y\n",
      "print \"complement =\", X.difference(Y) # X - Y\n",
      "\n",
      "print 'X contains \"se\":', \"se\" in X\n",
      "print 'Y contains \"se\":', \"se\" in Y"
     ],
     "language": "python",
     "metadata": {},
     "outputs": [
      {
       "output_type": "stream",
       "stream": "stdout",
       "text": [
        "X = set(['ad', 'di', 'is', 'ap', 'pa', 'ra', 'ar', 'se'])\n",
        "Y = set(['gr', 'ag', 'ap', 'pa', 'ra', 'ph', 'ar'])\n",
        "union = set(['ad', 'ag', 'di', 'is', 'ap', 'pa', 'ra', 'ph', 'ar', 'se', 'gr'])\n",
        "intersection = set(['ap', 'pa', 'ar', 'ra'])\n",
        "complement = set(['is', 'ad', 'se', 'di'])\n",
        "X contains \"se\": True\n",
        "Y contains \"se\": False\n"
       ]
      }
     ],
     "prompt_number": 27
    },
    {
     "cell_type": "markdown",
     "metadata": {},
     "source": [
      "### ex07. Generate text from template\n",
      "Create a function with 3 arguments x, y, z which generates \"y is z at x o'clock\". Try it with x=12, y=\"temperature\", z=22.4."
     ]
    },
    {
     "cell_type": "code",
     "collapsed": false,
     "input": [
      "def gen_text(x, y, z):\n",
      "    return \"{} is {} at {} o'clock\".format(y, z, x)\n",
      "\n",
      "print gen_text(x=12, y=\"temperature\", z=22.4)"
     ],
     "language": "python",
     "metadata": {},
     "outputs": [
      {
       "output_type": "stream",
       "stream": "stdout",
       "text": [
        "temperature is 22.4 at 12 o'clock\n"
       ]
      }
     ],
     "prompt_number": 29
    },
    {
     "cell_type": "markdown",
     "metadata": {},
     "source": [
      "### ex08. Ciphered text\n",
      "Implement a function `cipher`, which substitue all lower cased alphebet into the character with the charcode = 219 - charcode. Try to use this function to cipher and decipher messages."
     ]
    },
    {
     "cell_type": "code",
     "collapsed": false,
     "input": [
      "def cipher(text):\n",
      "    result = \"\"\n",
      "    for t in text:\n",
      "        if t.islower():\n",
      "            result += chr(219 - ord(t))\n",
      "        else:\n",
      "            result += t\n",
      "    return result\n",
      "\n",
      "text = \"Hello world\"\n",
      "ciphered_text = cipher(text)\n",
      "deciphered_text = cipher(ciphered_text)\n",
      "print ciphered_text\n",
      "print deciphered_text"
     ],
     "language": "python",
     "metadata": {},
     "outputs": [
      {
       "output_type": "stream",
       "stream": "stdout",
       "text": [
        "Hvool dliow\n",
        "Hello world\n"
       ]
      }
     ],
     "prompt_number": 36
    },
    {
     "cell_type": "markdown",
     "metadata": {},
     "source": [
      "### ex09. Typoglycemia\n",
      "Given a string of words separated by spaces, implement a function which keep the first and the last character while shuffle the others between randomly, except for the words with length <= 4.\n",
      "Try the result with the sentence below.\n",
      "> I couldn't believe that I could actually understand what I was reading : the phenomenal power of the human mind ."
     ]
    },
    {
     "cell_type": "code",
     "collapsed": false,
     "input": [
      "from random import shuffle\n",
      "\n",
      "def typoglycemia(text):\n",
      "    words = text.split(\" \")\n",
      "    result = []\n",
      "    for w in words:\n",
      "        if len(w) > 4:\n",
      "            between = list(w[1:-1])\n",
      "            shuffle(between)\n",
      "            result.append(w[0] + \"\".join(between) + w[-1])\n",
      "        else:\n",
      "            result.append(w)\n",
      "    return \" \".join(result)\n",
      "\n",
      "sent = \"I couldn't believe that I could actually understand what I was reading : the phenomenal power of the human mind .\"\n",
      "print typoglycemia(sent)"
     ],
     "language": "python",
     "metadata": {},
     "outputs": [
      {
       "output_type": "stream",
       "stream": "stdout",
       "text": [
        "I cn'udlot bvileee that I cuold acllatuy udsanrnted what I was rdaenig : the pehenomanl poewr of the human mind .\n"
       ]
      }
     ],
     "prompt_number": 53
    }
   ],
   "metadata": {}
  }
 ]
}